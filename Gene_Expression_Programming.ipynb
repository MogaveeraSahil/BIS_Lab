{
  "nbformat": 4,
  "nbformat_minor": 0,
  "metadata": {
    "colab": {
      "provenance": []
    },
    "kernelspec": {
      "name": "python3",
      "display_name": "Python 3"
    },
    "language_info": {
      "name": "python"
    }
  },
  "cells": [
    {
      "cell_type": "code",
      "execution_count": null,
      "metadata": {
        "id": "reKhooEqmww5"
      },
      "outputs": [],
      "source": [
        "import geppy as gep\n",
        "import operator\n",
        "\n",
        "pset = gep.PrimitiveSet('main', input_names=['x', 'y'])\n",
        "pset.add_function(max, 2)\n",
        "pset.add_function(operator.add, 2)\n",
        "pset.add_function(operator.mul, 2)\n",
        "pset.add_constant_terminal(3)"
      ]
    },
    {
      "cell_type": "code",
      "source": [
        "from deap import creator, base\n",
        "\n",
        "creator.create(\"FitnessMax\", base.Fitness, weights=(1,))\n",
        "creator.create('Individual', gep.Chromosome, fitness=creator.FitnessMax)"
      ],
      "metadata": {
        "id": "EVkx8fnmqvdV"
      },
      "execution_count": null,
      "outputs": []
    },
    {
      "cell_type": "code",
      "source": [
        "from deap import tools\n",
        "\n",
        "h = 7   # head length\n",
        "n_genes = 2\n",
        "toolbox = gep.Toolbox()\n",
        "\n",
        "toolbox.register('gene_gen', gep.Gene, pset=pset, head_length=h)\n",
        "toolbox.register('individual', creator.Individual, gene_gen=toolbox.gene_gen, n_genes=n_genes, linker=operator.add)\n",
        "toolbox.register(\"population\", tools.initRepeat, list, toolbox.individual)"
      ],
      "metadata": {
        "id": "RMBFG8KDq0RE"
      },
      "execution_count": null,
      "outputs": []
    },
    {
      "cell_type": "code",
      "source": [
        "toolbox.register('compile', gep.compile_, pset=pset)"
      ],
      "metadata": {
        "id": "-ukykr1irKWF"
      },
      "execution_count": null,
      "outputs": []
    },
    {
      "cell_type": "code",
      "source": [
        "def evaluate(individual):\n",
        "        func = toolbox.compile(individual)\n",
        "        # inserting x and y into func and\n",
        "        # compute the fitness of this individual\n",
        "        # ....\n",
        "        fitness = 1\n",
        "        return fitness,\n",
        "toolbox.register('evaluate', evaluate)"
      ],
      "metadata": {
        "id": "jcnovLVDsmmR"
      },
      "execution_count": null,
      "outputs": []
    },
    {
      "cell_type": "code",
      "source": [
        "toolbox.register('select', tools.selRoulette)\n",
        "\n",
        "## general mutations whose aliases start with 'mut'\n",
        "# We can specify the probability for an operator with the .pbs property\n",
        "toolbox.register('mut_uniform', gep.mutate_uniform, pset=pset, ind_pb=2 / (2 * h + 1))\n",
        "toolbox.pbs['mut_uniform'] = 1\n",
        "# Alternatively, assign the probability along with registration using the pb keyword argument\n",
        "toolbox.register('mut_invert', gep.invert, pb=0.1)\n",
        "toolbox.register('mut_is_ts', gep.is_transpose, pb=0.1)\n",
        "toolbox.register('mut_ris_ts', gep.ris_transpose, pb=0.1)\n",
        "toolbox.register('mut_gene_ts', gep.gene_transpose, pb=0.1)\n",
        "\n",
        "## general crossover whose aliases start with 'cx'\n",
        "toolbox.register('cx_1p', gep.crossover_one_point, pb=0.1)\n",
        "toolbox.pbs['cx_1p'] = 0.4   # just show that the probability can be overwritten\n",
        "toolbox.register('cx_2p', gep.crossover_two_point, pb=0.2)\n",
        "toolbox.register('cx_gene', gep.crossover_gene, pb=0.1)\n"
      ],
      "metadata": {
        "id": "V2KBP4k0sxdH"
      },
      "execution_count": null,
      "outputs": []
    },
    {
      "cell_type": "code",
      "source": [
        "import numpy\n",
        "stats = tools.Statistics(key=lambda ind: ind.fitness.values[0])\n",
        "stats.register(\"avg\", numpy.mean)\n",
        "stats.register(\"std\", numpy.std)\n",
        "stats.register(\"min\", numpy.min)\n",
        "stats.register(\"max\", numpy.max)"
      ],
      "metadata": {
        "id": "a9mGCFfHszDs"
      },
      "execution_count": null,
      "outputs": []
    },
    {
      "cell_type": "code",
      "source": [
        "hof = tools.HallOfFame(3)\n",
        "# size of population and number of generations\n",
        "n_pop = 100\n",
        "n_gen = 100\n",
        "\n",
        "pop = toolbox.population(n=n_pop)\n",
        "\n",
        "# start evolution\n",
        "pop, log = gep.gep_simple(pop, toolbox, n_generations=n_gen, n_elites=1,\n",
        "        stats=stats, hall_of_fame=hof, verbose=True)"
      ],
      "metadata": {
        "id": "f9LP_1Q4s6TS"
      },
      "execution_count": null,
      "outputs": []
    },
    {
      "cell_type": "code",
      "source": [
        "best_individual = hof[0]\n",
        "solution = gep.simplify(hof[0])\n",
        "print(best_individual)"
      ],
      "metadata": {
        "id": "uRoVJkOltG5Q"
      },
      "execution_count": null,
      "outputs": []
    },
    {
      "cell_type": "markdown",
      "source": [
        "### The above code cells are implementation of documentation, below cells are the actual code"
      ],
      "metadata": {
        "id": "K_otOqYtvelc"
      }
    },
    {
      "cell_type": "code",
      "source": [
        "!pip install geppy"
      ],
      "metadata": {
        "colab": {
          "base_uri": "https://localhost:8080/"
        },
        "id": "Bxa2aa-bnEn3",
        "outputId": "5309127d-dbca-4575-a9ff-3c8e4881bbbe"
      },
      "execution_count": null,
      "outputs": [
        {
          "output_type": "stream",
          "name": "stdout",
          "text": [
            "Collecting geppy\n",
            "  Downloading geppy-0.1.3.tar.gz (35 kB)\n",
            "  Preparing metadata (setup.py) ... \u001b[?25l\u001b[?25hdone\n",
            "Collecting deap (from geppy)\n",
            "  Downloading deap-1.4.1-cp310-cp310-manylinux_2_5_x86_64.manylinux1_x86_64.manylinux_2_17_x86_64.manylinux2014_x86_64.whl.metadata (13 kB)\n",
            "Requirement already satisfied: numpy in /usr/local/lib/python3.10/dist-packages (from deap->geppy) (1.26.4)\n",
            "Downloading deap-1.4.1-cp310-cp310-manylinux_2_5_x86_64.manylinux1_x86_64.manylinux_2_17_x86_64.manylinux2014_x86_64.whl (135 kB)\n",
            "\u001b[2K   \u001b[90m━━━━━━━━━━━━━━━━━━━━━━━━━━━━━━━━━━━━━━━━\u001b[0m \u001b[32m135.4/135.4 kB\u001b[0m \u001b[31m9.1 MB/s\u001b[0m eta \u001b[36m0:00:00\u001b[0m\n",
            "\u001b[?25hBuilding wheels for collected packages: geppy\n",
            "  Building wheel for geppy (setup.py) ... \u001b[?25l\u001b[?25hdone\n",
            "  Created wheel for geppy: filename=geppy-0.1.3-py3-none-any.whl size=34965 sha256=088845ef70622e0dccee515188fefd4b8760960f34531b9293e4779c2d52505a\n",
            "  Stored in directory: /root/.cache/pip/wheels/05/74/8d/ad0e08b902c7faa2fb9011bef1a0efde8c676e7f9b4d2fe67d\n",
            "Successfully built geppy\n",
            "Installing collected packages: deap, geppy\n",
            "Successfully installed deap-1.4.1 geppy-0.1.3\n"
          ]
        }
      ]
    },
    {
      "cell_type": "code",
      "source": [
        "import operator\n",
        "import numpy as np\n",
        "import geppy as gep\n",
        "from deap import creator, base, tools\n",
        "\n",
        "# Step 1: Define the target function\n",
        "def target_function(x, y):\n",
        "    return x**2 + y**2\n",
        "\n",
        "# Step 2: Define the dataset\n",
        "x_data = np.linspace(-10, 10, 50)\n",
        "y_data = np.linspace(-10, 10, 50)\n",
        "X, Y = np.meshgrid(x_data, y_data)\n",
        "Z = target_function(X, Y)  # Target outputs\n",
        "\n",
        "# Flatten the data for evaluation\n",
        "inputs = np.array([X.ravel(), Y.ravel()]).T\n",
        "outputs = Z.ravel()\n",
        "\n",
        "# Step 3: Define the GEP primitive set\n",
        "pset = gep.PrimitiveSet('main', input_names=['x', 'y'])\n",
        "#pset.add_function(max, 2)\n",
        "pset.add_function(operator.add, 2)\n",
        "pset.add_function(operator.mul, 2)\n",
        "pset.add_constant_terminal(3)\n",
        "\n",
        "# Step 4: Define the fitness and individual\n",
        "creator.create(\"FitnessMax\", base.Fitness, weights=(1.0,))\n",
        "creator.create('Individual', gep.Chromosome, fitness=creator.FitnessMax)\n",
        "\n",
        "# Step 5: Define the toolbox\n",
        "toolbox = gep.Toolbox()\n",
        "\n",
        "# Register chromosome, population, and compile function\n",
        "toolbox.register('gene_gen', gep.Gene, pset=pset, head_length=h)\n",
        "toolbox.register('individual', creator.Individual, gene_gen=toolbox.gene_gen, n_genes=n_genes, linker=operator.add)\n",
        "toolbox.register('population', tools.initRepeat, list, toolbox.individual)\n",
        "toolbox.register('compile', gep.compile_, pset=pset)\n",
        "\n",
        "# Define the fitness evaluation function\n",
        "def evaluate(individual):\n",
        "    func = toolbox.compile(individual)\n",
        "    predictions = np.array([func(*input_pair) for input_pair in inputs])\n",
        "    fitness = -np.mean((outputs - predictions)**2)  # Negative MSE\n",
        "    return fitness,\n",
        "\n",
        "toolbox.register('evaluate', evaluate)\n",
        "\n",
        "# Register selection, mutation, and crossover operators\n",
        "toolbox.register('select', tools.selRoulette)\n",
        "toolbox.register('mut_uniform', gep.mutate_uniform, pset=pset, ind_pb=2 / (2 * 10 + 1))\n",
        "toolbox.pbs['mut_uniform'] = 1\n",
        "toolbox.register('mut_invert', gep.invert, pb=0.1)\n",
        "toolbox.register('mut_is_ts', gep.is_transpose, pb=0.1)\n",
        "toolbox.register('mut_ris_ts', gep.ris_transpose, pb=0.1)\n",
        "toolbox.register('mut_gene_ts', gep.gene_transpose, pb=0.1)\n",
        "toolbox.register('cx_1p', gep.crossover_one_point, pb=0.4)\n",
        "toolbox.register('cx_2p', gep.crossover_two_point, pb=0.2)\n",
        "toolbox.register('cx_gene', gep.crossover_gene, pb=0.1)\n",
        "\n",
        "# Step 6: Define statistics and Hall of Fame\n",
        "stats = tools.Statistics(key=lambda ind: ind.fitness.values[0])\n",
        "stats.register(\"avg\", np.mean)\n",
        "stats.register(\"std\", np.std)\n",
        "stats.register(\"min\", np.min)\n",
        "stats.register(\"max\", np.max)\n",
        "\n",
        "hof = tools.HallOfFame(3)\n",
        "# size of population and number of generations\n",
        "n_pop = 100\n",
        "n_gen = 100\n",
        "\n",
        "pop = toolbox.population(n=n_pop)\n",
        "\n",
        "# start evolution\n",
        "pop, log = gep.gep_simple(pop, toolbox, n_generations=n_gen, n_elites=1,\n",
        "        stats=stats, hall_of_fame=hof, verbose=True)\n",
        "\n",
        "# Step 8: Output the best individual\n",
        "best_individual = hof[0]\n",
        "simplified_solution = gep.simplify(best_individual)\n",
        "\n",
        "print(\"\\nBest Individual (Chromosome):\")\n",
        "print(best_individual)\n",
        "print(\"\\nSimplified Solution:\")\n",
        "print(simplified_solution)\n",
        "\n",
        "# Evaluate the error of the solution\n",
        "best_func = toolbox.compile(best_individual)\n",
        "predictions = np.array([best_func(*input_pair) for input_pair in inputs])\n",
        "mse = np.mean((outputs - predictions)**2)\n",
        "print(f\"\\nMean Squared Error of the Best Solution: {mse:.6f}\")\n"
      ],
      "metadata": {
        "colab": {
          "base_uri": "https://localhost:8080/"
        },
        "id": "G9PZkEzOuYKD",
        "outputId": "dad60fe4-e225-46ec-e629-ecd39f56c0c5"
      },
      "execution_count": null,
      "outputs": [
        {
          "output_type": "stream",
          "name": "stdout",
          "text": [
            "gen\tnevals\tavg         \tstd        \tmin         \tmax     \n",
            "0  \t100   \t-6.62559e+06\t4.48443e+07\t-4.33244e+08\t-1020.97\n",
            "1  \t99    \t-3.08526e+08\t2.58148e+09\t-2.58617e+10\t-1020.97\n",
            "2  \t99    \t-4.0815e+08 \t2.82447e+09\t-2.81362e+10\t-1020.97\n",
            "3  \t99    \t-5.72709e+07\t2.96972e+08\t-1.80375e+09\t-1020.97\n",
            "4  \t99    \t-1.2742e+07 \t1.10373e+08\t-1.10452e+09\t-1020.97\n",
            "5  \t99    \t-1.06651e+08\t4.18968e+08\t-1.80392e+09\t-1020.97\n",
            "6  \t99    \t-7.88386e+07\t3.44002e+08\t-1.82008e+09\t-1020.97\n",
            "7  \t99    \t-1.07216e+06\t5.67509e+06\t-5.10646e+07\t-1020.97\n",
            "8  \t99    \t-4.85864e+07\t2.63015e+08\t-1.80375e+09\t-1020.97\n",
            "9  \t99    \t-1.93082e+07\t1.79499e+08\t-1.80375e+09\t-1020.97\n",
            "10 \t99    \t-9.5026e+07 \t3.79956e+08\t-1.80646e+09\t-0      \n",
            "11 \t99    \t-7.77857e+07\t3.54273e+08\t-1.80466e+09\t-0      \n",
            "12 \t99    \t-5.13687e+07\t2.86121e+08\t-1.80377e+09\t-0      \n",
            "13 \t99    \t-1.90905e+07\t1.79419e+08\t-1.80375e+09\t-0      \n",
            "14 \t99    \t-6.06095e+07\t3.09729e+08\t-1.80376e+09\t-0      \n",
            "15 \t99    \t-3.38272e+08\t2.81053e+09\t-2.81344e+10\t-0      \n",
            "16 \t99    \t-3.65069e+07\t2.52477e+08\t-1.80376e+09\t-0      \n",
            "17 \t99    \t-5.8047e+07 \t3.07903e+08\t-1.80556e+09\t-0      \n",
            "18 \t99    \t-4.76885e+07\t2.51394e+08\t-1.80375e+09\t-0      \n",
            "19 \t99    \t-3.4565e+06 \t2.12485e+07\t-2.00858e+08\t-0      \n",
            "20 \t99    \t-5.17755e+07\t2.86192e+08\t-1.80376e+09\t-0      \n",
            "21 \t99    \t-2.96412e+07\t2.09454e+08\t-1.80375e+09\t-0      \n",
            "22 \t99    \t-1.07881e+08\t4.13602e+08\t-1.80646e+09\t-0      \n",
            "23 \t99    \t-1.13008e+08\t4.28131e+08\t-1.80466e+09\t-0      \n",
            "24 \t99    \t-3.75842e+08\t3.11975e+09\t-3.12685e+10\t-0      \n",
            "25 \t99    \t-3.04264e+07\t2.06618e+08\t-1.55543e+09\t-0      \n",
            "26 \t99    \t-2.57521e+07\t1.87541e+08\t-1.80375e+09\t-0      \n",
            "27 \t99    \t-1.64042e+07\t1.54725e+08\t-1.55543e+09\t-0      \n",
            "28 \t99    \t-5.18303e+08\t3.34467e+09\t-3.12685e+10\t-0      \n",
            "29 \t99    \t-3.77902e+07\t2.5237e+08 \t-1.80375e+09\t-0      \n",
            "30 \t99    \t-3.39335e+07\t2.36118e+08\t-1.80375e+09\t-0      \n",
            "31 \t99    \t-3.88183e+07\t2.31653e+08\t-1.80375e+09\t-0      \n",
            "32 \t99    \t-3.77604e+07\t2.52369e+08\t-1.80375e+09\t-0      \n",
            "33 \t99    \t-5.03666e+07\t3.58113e+08\t-3.13414e+09\t-0      \n",
            "34 \t99    \t-3.3567e+08 \t2.80851e+09\t-2.81259e+10\t-0      \n",
            "35 \t99    \t-1.51297e+06\t1.1744e+07 \t-1.16017e+08\t-0      \n",
            "36 \t99    \t-3.6731e+08 \t2.81484e+09\t-2.81344e+10\t-0      \n",
            "37 \t99    \t-2.27639e+07\t1.83387e+08\t-1.80376e+09\t-0      \n",
            "38 \t99    \t-3.99031e+07\t2.3003e+08 \t-1.80376e+09\t-0      \n",
            "39 \t99    \t-7.223e+07  \t3.38058e+08\t-1.83867e+09\t-0      \n",
            "40 \t99    \t-5.07828e+07\t2.74289e+08\t-1.80375e+09\t-0      \n",
            "41 \t99    \t-3.63116e+08\t3.11927e+09\t-3.12685e+10\t-0      \n",
            "42 \t99    \t-3.67805e+08\t2.8992e+09 \t-2.89972e+10\t-0      \n",
            "43 \t99    \t-3.53494e+08\t2.81211e+09\t-2.81344e+10\t-0      \n",
            "44 \t99    \t-7.06502e+07\t3.26285e+08\t-1.80466e+09\t-0      \n",
            "45 \t99    \t-2.1758e+08 \t1.33162e+09\t-1.25365e+10\t-0      \n",
            "46 \t99    \t-3.46795e+08\t3.11574e+09\t-3.12592e+10\t-0      \n",
            "47 \t99    \t-2.05044e+06\t7.35095e+06\t-5.13493e+07\t-0      \n",
            "48 \t99    \t-1.92068e+06\t7.86916e+06\t-5.10562e+07\t-0      \n",
            "49 \t99    \t-8.383e+07  \t3.67867e+08\t-1.80376e+09\t-0      \n",
            "50 \t99    \t-5.31725e+07\t2.94098e+08\t-1.80403e+09\t-0      \n",
            "51 \t99    \t-6.83658e+07\t4.04912e+08\t-3.51261e+09\t-0      \n",
            "52 \t99    \t-7.30562e+07\t3.53369e+08\t-1.80466e+09\t-0      \n",
            "53 \t99    \t-6.05696e+07\t3.1174e+08 \t-1.80436e+09\t-0      \n",
            "54 \t99    \t-5.87551e+07\t3.07795e+08\t-1.80375e+09\t-0      \n",
            "55 \t99    \t-3.00284e+07\t2.09445e+08\t-1.80375e+09\t-0      \n",
            "56 \t99    \t-3.52358e+08\t2.82181e+09\t-2.81344e+10\t-0      \n",
            "57 \t99    \t-7.37957e+07\t3.12724e+08\t-1.80376e+09\t-0      \n",
            "58 \t99    \t-7.19356e+07\t3.26681e+08\t-1.80375e+09\t-0      \n",
            "59 \t99    \t-1.87079e+07\t1.79435e+08\t-1.80375e+09\t-0      \n",
            "60 \t99    \t-3.6971e+07 \t2.26709e+08\t-1.80375e+09\t-0      \n",
            "61 \t99    \t-9.73445e+07\t3.94032e+08\t-1.80466e+09\t-0      \n",
            "62 \t99    \t-3.38992e+08\t3.11483e+09\t-3.12703e+10\t-0      \n",
            "63 \t99    \t-3.7419e+08 \t3.11898e+09\t-3.12592e+10\t-0      \n",
            "64 \t99    \t-9.19938e+07\t3.75222e+08\t-1.80406e+09\t-0      \n",
            "65 \t99    \t-8.5131e+07 \t4.7557e+08 \t-4.05845e+09\t-0      \n",
            "66 \t99    \t-4.06758e+07\t2.543e+08  \t-1.80376e+09\t-0      \n",
            "67 \t99    \t-6.79826e+08\t4.37856e+09\t-3.12685e+10\t-0      \n",
            "68 \t99    \t-7.12841e+07\t3.24465e+08\t-1.80376e+09\t-0      \n",
            "69 \t99    \t-2.63751e+06\t2.01581e+07\t-2.00858e+08\t-0      \n",
            "70 \t99    \t-3.86455e+08\t2.8182e+09 \t-2.81344e+10\t-0      \n",
            "71 \t99    \t-5.51114e+07\t2.88934e+08\t-1.80376e+09\t-0      \n",
            "72 \t99    \t-4.72515e+07\t2.36241e+08\t-1.80375e+09\t-0      \n",
            "73 \t99    \t-3.48854e+08\t2.80775e+09\t-2.81264e+10\t-0      \n",
            "74 \t99    \t-5.73367e+06\t3.99999e+07\t-3.95731e+08\t-0      \n",
            "75 \t99    \t-4.16254e+07\t2.55918e+08\t-1.80646e+09\t-0      \n",
            "76 \t99    \t-6.52948e+07\t3.13605e+08\t-1.8052e+09 \t-0      \n",
            "77 \t99    \t-6.50673e+08\t4.00657e+09\t-2.89959e+10\t-0      \n",
            "78 \t99    \t-5.47758e+07\t3.07615e+08\t-1.80376e+09\t-0      \n",
            "79 \t99    \t-3.49471e+08\t3.11687e+09\t-3.12601e+10\t-0      \n",
            "80 \t99    \t-5.15302e+07\t2.7467e+08 \t-1.80375e+09\t-0      \n",
            "81 \t99    \t-4.78662e+07\t2.63016e+08\t-1.80375e+09\t-0      \n",
            "82 \t99    \t-9.69439e+07\t6.06438e+08\t-5.57181e+09\t-0      \n",
            "83 \t99    \t-5.14102e+08\t4.22432e+09\t-4.23774e+10\t-0      \n",
            "84 \t99    \t-3.72027e+08\t3.1206e+09 \t-3.12685e+10\t-0      \n",
            "85 \t99    \t-9.30486e+07\t3.92983e+08\t-1.80376e+09\t-0      \n",
            "86 \t99    \t-1.84852e+07\t1.79446e+08\t-1.80376e+09\t-0      \n",
            "87 \t99    \t-1.91105e+07\t1.79416e+08\t-1.80375e+09\t-0      \n",
            "88 \t99    \t-3.48977e+08\t3.1165e+09 \t-3.12685e+10\t-0      \n",
            "89 \t99    \t-7.32218e+07\t3.32272e+08\t-1.80466e+09\t-0      \n",
            "90 \t99    \t-1.71926e+07\t1.54748e+08\t-1.55543e+09\t-0      \n",
            "91 \t99    \t-7.53098e+07\t4.04411e+08\t-3.17589e+09\t-0      \n",
            "92 \t99    \t-1.00748e+08\t3.98511e+08\t-1.80375e+09\t-0      \n",
            "93 \t99    \t-5.59883e+08\t5.37355e+09\t-5.39961e+10\t-0      \n",
            "94 \t99    \t-7.03136e+07\t3.41888e+08\t-1.80436e+09\t-0      \n",
            "95 \t99    \t-5.41186e+07\t3.91045e+08\t-3.51126e+09\t-0      \n",
            "96 \t99    \t-3.97431e+07\t2.52869e+08\t-1.80375e+09\t-0      \n",
            "97 \t99    \t-1.62988e+07\t1.39813e+08\t-1.39295e+09\t-0      \n",
            "98 \t99    \t-9.75364e+07\t3.86572e+08\t-1.80375e+09\t-0      \n",
            "99 \t99    \t-3.66932e+07\t2.52524e+08\t-1.80466e+09\t-0      \n",
            "100\t99    \t-5.44689e+07\t3.07645e+08\t-1.80375e+09\t-0      \n",
            "\n",
            "Best Individual (Chromosome):\n",
            "add(\n",
            "\tmul(y, y),\n",
            "\tmul(x, x)\n",
            ")\n",
            "\n",
            "Simplified Solution:\n",
            "x**2 + y**2\n",
            "\n",
            "Mean Squared Error of the Best Solution: 0.000000\n"
          ]
        }
      ]
    },
    {
      "cell_type": "code",
      "source": [
        "rename_labels = {'add': '+', 'sub': '-', 'mul' : '*'}\n",
        "gep.export_expression_tree(best_individual, rename_labels, file='tree.png')"
      ],
      "metadata": {
        "id": "zekLR9CitdZS"
      },
      "execution_count": null,
      "outputs": []
    }
  ]
}