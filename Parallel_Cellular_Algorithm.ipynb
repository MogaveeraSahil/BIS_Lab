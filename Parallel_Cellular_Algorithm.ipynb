{
  "nbformat": 4,
  "nbformat_minor": 0,
  "metadata": {
    "colab": {
      "provenance": []
    },
    "kernelspec": {
      "name": "python3",
      "display_name": "Python 3"
    },
    "language_info": {
      "name": "python"
    }
  },
  "cells": [
    {
      "cell_type": "code",
      "execution_count": null,
      "metadata": {
        "id": "JMKhJD9t48aG",
        "outputId": "62bc29b1-2301-449d-cb40-89c63ced78c3",
        "colab": {
          "base_uri": "https://localhost:8080/"
        }
      },
      "outputs": [
        {
          "output_type": "stream",
          "name": "stdout",
          "text": [
            "Initial Grid\n",
            "[[-5.25871201  0.59978054 -7.93794541  9.77602934  9.28411556  8.406491\n",
            "  -3.3326278   0.89339223 -8.37177449  0.97883093]\n",
            " [ 0.81608137  5.32036554  1.54344809 -6.0607266   9.15480091 -1.96357372\n",
            "   1.84683431 -1.6541272   0.72235851  5.65636294]\n",
            " [ 2.312712   -9.95626725  9.24858527  0.40960916 -4.2854517   5.30218619\n",
            "   8.5481763  -1.36102281 -5.75883336 -9.84314585]\n",
            " [-0.81584373  5.46374635  2.32862161  9.69351979  7.8821832  -5.51851434\n",
            "   8.70271798  2.21782924  0.04592197  6.74942218]\n",
            " [-0.93051079 -1.3618417  -8.56770536  9.06121684  3.23280743  8.62581814\n",
            "   5.57826083  8.4678698  -1.15446887 -0.11544824]\n",
            " [ 0.8497085  -1.85078875  2.7020311  -1.71503794 -3.61845439  8.83723414\n",
            "  -0.76045775  1.99312578  6.01930359  5.84565696]\n",
            " [-4.36736289 -4.61424663 -6.84343417 -1.87326218 -8.30736222 -3.20288741\n",
            "  -5.14605784 -4.27830533  9.61345124  8.15095763]\n",
            " [-9.06126807 -7.32648489  0.89526253 -3.31025777  9.47384877  0.58247983\n",
            "   8.75396608 -5.88975125 -2.03651343  4.52726254]\n",
            " [-6.31956478 -7.47486637  2.02709094  6.73712402 -9.07732961  7.85723462\n",
            "   0.51669912 -9.14842994 -2.36449411  1.95189929]\n",
            " [ 3.68006534  1.84719871  5.95673778 -0.43706674  3.87584795 -4.75314569\n",
            "  -1.15016499  6.71000716 -3.06913963  2.38365489]]\n",
            "Best Solution :  2.24540915072664 Best Fitness: 0.06022565126037094 Iteration: 0\n",
            "Best Solution :  2.235779380866288 Best Fitness: 0.05559191644169026 Iteration: 0\n",
            "Best Solution :  1.8548617737228894 Best Fitness: 0.021065104726865957 Iteration: 0\n",
            "Best Solution :  1.9038942157105332 Best Fitness: 0.00923632177389333 Iteration: 0\n",
            "Best Solution :  1.914648898332218 Best Fitness: 0.00728481055590402 Iteration: 1\n",
            "Best Solution :  2.013833473756867 Best Fitness: 0.00019136499618177538 Iteration: 1\n",
            "Best Solution :  1.996366828344279 Best Fitness: 1.3199936280017255e-05 Iteration: 3\n",
            "Best Solution :  2.000093748609382 Best Fitness: 8.788801686421266e-09 Iteration: 4\n",
            "Best Solution: 2.000093748609382\n",
            "Best Fitness: 8.788801686421266e-09\n"
          ]
        }
      ],
      "source": [
        "import numpy as np\n",
        "\n",
        "# Problem Definition\n",
        "def fitness_function(x):\n",
        "    return x**2 - 4*x + 4\n",
        "\n",
        "# Parameters\n",
        "grid_size = 10  # 10x10 grid\n",
        "num_iterations = 100\n",
        "search_space_min = -10\n",
        "search_space_max = 10\n",
        "\n",
        "# Initialize Population\n",
        "grid = np.random.uniform(search_space_min, search_space_max, (grid_size, grid_size))\n",
        "print(\"Initial Grid\")\n",
        "print(grid)\n",
        "# Neighborhood Definition (Moore Neighborhood)\n",
        "def get_neighbors(grid, i, j):\n",
        "    neighbors = []\n",
        "    for di in [-1, 0, 1]:\n",
        "        for dj in [-1, 0, 1]:\n",
        "            if not (di == 0 and dj == 0):  # Exclude the cell itself\n",
        "                ni, nj = i + di, j + dj\n",
        "                if 0 <= ni < grid.shape[0] and 0 <= nj < grid.shape[1]:\n",
        "                    neighbors.append(grid[ni, nj])\n",
        "    return neighbors\n",
        "\n",
        "# Iterative Update Process\n",
        "best_solution = None\n",
        "best_fitness = float('inf')\n",
        "\n",
        "for iteration in range(num_iterations):\n",
        "    new_grid = grid.copy()\n",
        "    for i in range(grid_size):\n",
        "        for j in range(grid_size):\n",
        "            neighbors = get_neighbors(grid, i, j)\n",
        "            if neighbors:\n",
        "                # Update state: average of neighbors\n",
        "                new_grid[i, j] = np.mean(neighbors)\n",
        "            # Evaluate fitness\n",
        "            fitness = fitness_function(new_grid[i, j])\n",
        "            if fitness < best_fitness:\n",
        "                best_fitness = fitness\n",
        "                best_solution = new_grid[i, j]\n",
        "                print('Best Solution : ',best_solution,'Best Fitness:', best_fitness,'Iteration:',iteration)\n",
        "    grid = new_grid\n",
        "\n",
        "# Output Best Solution\n",
        "print(f\"Best Solution: {best_solution}\")\n",
        "print(f\"Best Fitness: {best_fitness}\")"
      ]
    }
  ]
}