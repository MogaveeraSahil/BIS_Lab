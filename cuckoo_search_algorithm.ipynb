{
  "nbformat": 4,
  "nbformat_minor": 0,
  "metadata": {
    "colab": {
      "provenance": []
    },
    "kernelspec": {
      "name": "python3",
      "display_name": "Python 3"
    },
    "language_info": {
      "name": "python"
    }
  },
  "cells": [
    {
      "cell_type": "code",
      "execution_count": null,
      "metadata": {
        "colab": {
          "base_uri": "https://localhost:8080/"
        },
        "id": "YjHY8-RdELkk",
        "outputId": "c4cf490c-3911-4f9e-d535-650d3e54a027"
      },
      "outputs": [
        {
          "output_type": "stream",
          "name": "stdout",
          "text": [
            "Iteration 0, Best Fitness: -3.4636520075257398, Best Solution: [-2.09988108 -1.42859946]\n",
            "Iteration 100, Best Fitness: -6.333327073859156, Best Solution: [-2.66731198 -3.33121731]\n",
            "Iteration 200, Best Fitness: -6.333327073859156, Best Solution: [-2.66731198 -3.33121731]\n",
            "Iteration 300, Best Fitness: -6.333330439429524, Best Solution: [-2.66614861 -3.33143338]\n",
            "Iteration 400, Best Fitness: -6.333330439429524, Best Solution: [-2.66614861 -3.33143338]\n",
            "Iteration 500, Best Fitness: -6.333330439429524, Best Solution: [-2.66614861 -3.33143338]\n",
            "Iteration 600, Best Fitness: -6.333330439429524, Best Solution: [-2.66614861 -3.33143338]\n",
            "Iteration 700, Best Fitness: -6.333330439429524, Best Solution: [-2.66614861 -3.33143338]\n",
            "Iteration 800, Best Fitness: -6.333330439429524, Best Solution: [-2.66614861 -3.33143338]\n",
            "Iteration 900, Best Fitness: -6.333331433298298, Best Solution: [-2.66647927 -3.3318708 ]\n",
            "Best solution found: x = -2.666479265439842, y = -3.331870802701476\n",
            "Best objective function value: -6.333331433298298\n"
          ]
        }
      ],
      "source": [
        "import numpy as np\n",
        "import math\n",
        "\n",
        "# Objective function to minimize\n",
        "def objective_function(x, y):\n",
        "    return x**2 - x*y + y**2 + 2*x + 4*y + 3\n",
        "\n",
        "# Lévy flight function (based on power-law distribution)\n",
        "def levy_flight(Lambda, size):\n",
        "    u = np.random.normal(0, 1, size)\n",
        "    v = np.random.normal(0, 1, size)\n",
        "    step = u / np.power(np.abs(v), 1/Lambda)  # Lévy flight step\n",
        "    return step\n",
        "\n",
        "# Cuckoo Search Algorithm\n",
        "def cuckoo_search(obj_func, n_nests=25, max_iter=1000, alpha=0.1, pa=0.25, lambda_=1.5):\n",
        "    # Initialize population (nests) randomly\n",
        "    nests = np.random.uniform(low=-5, high=5, size=(n_nests, 2))  # Bounds for x, y\n",
        "    fitness = np.array([obj_func(x, y) for x, y in nests])  # Evaluate initial fitness\n",
        "\n",
        "    # Best nest (solution) at the beginning\n",
        "    best_idx = np.argmin(fitness)\n",
        "    best_nest = nests[best_idx]\n",
        "    best_fitness = fitness[best_idx]\n",
        "\n",
        "    # Main loop for iterations\n",
        "    for iteration in range(max_iter):\n",
        "        # Generate new solutions using Lévy flight\n",
        "        for i in range(n_nests):\n",
        "            # Generate a new position using Lévy flight\n",
        "            step = alpha * levy_flight(lambda_, 2)  # 2 because we're working in 2D (x, y)\n",
        "            new_nest = nests[i] + step\n",
        "\n",
        "            # Make sure the new solution is within bounds\n",
        "            new_nest = np.clip(new_nest, -5, 5)\n",
        "\n",
        "            # Evaluate the new solution's fitness\n",
        "            new_fitness = obj_func(new_nest[0], new_nest[1])\n",
        "\n",
        "            # If the new solution is better, replace the current one\n",
        "            if new_fitness < fitness[i]:\n",
        "                nests[i] = new_nest\n",
        "                fitness[i] = new_fitness\n",
        "\n",
        "                # Update the best solution found so far\n",
        "                if new_fitness < best_fitness:\n",
        "                    best_fitness = new_fitness\n",
        "                    best_nest = new_nest\n",
        "\n",
        "        # Perform the abandonment process: replace a fraction of nests\n",
        "        for i in range(n_nests):\n",
        "            if np.random.rand() < pa:\n",
        "                # Generate a new nest and evaluate fitness\n",
        "                new_nest = np.random.uniform(low=-5, high=5, size=2)\n",
        "                new_fitness = obj_func(new_nest[0], new_nest[1])\n",
        "\n",
        "                # Replace worst nests if the new nest is better\n",
        "                if new_fitness < fitness[i]:\n",
        "                    nests[i] = new_nest\n",
        "                    fitness[i] = new_fitness\n",
        "\n",
        "                    # Update the best solution found so far\n",
        "                    if new_fitness < best_fitness:\n",
        "                        best_fitness = new_fitness\n",
        "                        best_nest = new_nest\n",
        "\n",
        "        # Print progress every 100 iterations\n",
        "        if iteration % 100 == 0:\n",
        "            print(f\"Iteration {iteration}, Best Fitness: {best_fitness}, Best Solution: {best_nest}\")\n",
        "\n",
        "    return best_nest, best_fitness\n",
        "\n",
        "# Run Cuckoo Search\n",
        "best_solution, best_value = cuckoo_search(objective_function, n_nests=25, max_iter=1000, alpha=0.1, pa=0.25)\n",
        "\n",
        "print(f\"Best solution found: x = {best_solution[0]}, y = {best_solution[1]}\")\n",
        "print(f\"Best objective function value: {best_value}\")\n"
      ]
    }
  ]
}